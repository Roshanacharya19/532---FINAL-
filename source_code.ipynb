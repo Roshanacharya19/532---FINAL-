{
  "nbformat": 4,
  "nbformat_minor": 0,
  "metadata": {
    "colab": {
      "provenance": []
    },
    "kernelspec": {
      "name": "python3",
      "display_name": "Python 3"
    },
    "language_info": {
      "name": "python"
    }
  },
  "cells": [
    {
      "cell_type": "code",
      "source": [
        "import numpy as np\n",
        "import time\n",
        "\n",
        "# Naive Matrix Multiplication\n",
        "def naive_matrix_multiplication(A, B):\n",
        "    n = A.shape[0]\n",
        "    C = np.zeros((n, n))\n",
        "    for i in range(n):\n",
        "        for j in range(n):\n",
        "            for k in range(n):\n",
        "                C[i, j] += A[i, k] * B[k, j]\n",
        "    return C\n",
        "\n",
        "# Example usage\n",
        "n = 1000  # Size of the matrix\n",
        "A = np.random.rand(n, n)\n",
        "B = np.random.rand(n, n)\n",
        "\n",
        "# Measure execution time of naive implementation\n",
        "start_time = time.time()\n",
        "C_naive = naive_matrix_multiplication(A, B)\n",
        "naive_time = time.time() - start_time\n",
        "\n",
        "print(f\"Naive Time: {naive_time} seconds\")\n"
      ],
      "metadata": {
        "id": "4tGoiApxzt1q",
        "colab": {
          "base_uri": "https://localhost:8080/"
        },
        "outputId": "161b5933-94af-4a26-d7e4-0d1cdb89e58a"
      },
      "execution_count": null,
      "outputs": [
        {
          "output_type": "stream",
          "name": "stdout",
          "text": [
            "Naive Time: 915.0046963691711 seconds\n"
          ]
        }
      ]
    },
    {
      "cell_type": "code",
      "source": [
        "import numpy as np\n",
        "import time\n",
        "\n",
        "# Optimized Matrix Multiplication with Blocking\n",
        "def optimized_matrix_multiplication(A, B, block_size=64):\n",
        "    n = A.shape[0]\n",
        "    C = np.zeros((n, n))\n",
        "    for i in range(0, n, block_size):\n",
        "        for j in range(0, n, block_size):\n",
        "            for k in range(0, n, block_size):\n",
        "                for ii in range(i, min(i + block_size, n)):\n",
        "                    for jj in range(j, min(j + block_size, n)):\n",
        "                        for kk in range(k, min(k + block_size, n)):\n",
        "                            C[ii, jj] += A[ii, kk] * B[kk, jj]\n",
        "    return C\n",
        "\n",
        "# Example usage\n",
        "n = 1000  # Size of the matrix\n",
        "A = np.random.rand(n, n)\n",
        "B = np.random.rand(n, n)\n",
        "\n",
        "# Measure execution time of optimized implementation\n",
        "start_time = time.time()\n",
        "C_optimized = optimized_matrix_multiplication(A, B)\n",
        "optimized_time = time.time() - start_time\n",
        "\n",
        "print(f\"Optimized Time: {optimized_time} seconds\")"
      ],
      "metadata": {
        "colab": {
          "base_uri": "https://localhost:8080/"
        },
        "id": "HknQlKdtA9o5",
        "outputId": "167a27b5-552d-41ee-8880-ebb5ee16c595"
      },
      "execution_count": null,
      "outputs": [
        {
          "output_type": "stream",
          "name": "stdout",
          "text": [
            "Optimized Time: 752.768132686615 seconds\n"
          ]
        }
      ]
    },
    {
      "cell_type": "code",
      "source": [
        "import numpy as np\n",
        "import time\n",
        "\n",
        "# Naive Matrix Multiplication\n",
        "def naive_matrix_multiplication(A, B):\n",
        "    n = A.shape[0]\n",
        "    C = np.zeros((n, n))\n",
        "    for i in range(n):\n",
        "        for j in range(n):\n",
        "            for k in range(n):\n",
        "                C[i, j] += A[i, k] * B[k, j]\n",
        "    return C\n",
        "\n",
        "# Optimized Matrix Multiplication with Blocking\n",
        "def optimized_matrix_multiplication(A, B, block_size=64):\n",
        "    n = A.shape[0]\n",
        "    C = np.zeros((n, n))\n",
        "    for i in range(0, n, block_size):\n",
        "        for j in range(0, n, block_size):\n",
        "            for k in range(0, n, block_size):\n",
        "                for ii in range(i, min(i + block_size, n)):\n",
        "                    for jj in range(j, min(j + block_size, n)):\n",
        "                        for kk in range(k, min(k + block_size, n)):\n",
        "                            C[ii, jj] += A[ii, kk] * B[kk, jj]\n",
        "    return C\n",
        "\n",
        "# Example usage\n",
        "n = 1000  # Size of the matrix\n",
        "A = np.random.rand(n, n)\n",
        "B = np.random.rand(n, n)\n",
        "\n",
        "\n",
        "# Measure execution time of naive implementation\n",
        "start_time = time.time()\n",
        "C_naive = naive_matrix_multiplication(A, B)\n",
        "naive_time = time.time() - start_time\n",
        "\n",
        "# Measure execution time of optimized implementation\n",
        "start_time = time.time()\n",
        "C_optimized = optimized_matrix_multiplication(A, B)\n",
        "optimized_time = time.time() - start_time\n",
        "\n",
        "print(f\"Naive Time: {naive_time} seconds\")\n",
        "print(f\"Optimized Time: {optimized_time} seconds\")"
      ],
      "metadata": {
        "colab": {
          "base_uri": "https://localhost:8080/",
          "height": 0
        },
        "id": "sFjz_x-KBIWH",
        "outputId": "9822ca59-c1b1-4c80-9083-cd898e8a77f0"
      },
      "execution_count": 11,
      "outputs": [
        {
          "output_type": "stream",
          "name": "stdout",
          "text": [
            "Naive Time: 768.5311257839203 seconds\n",
            "Optimized Time: 765.5375196933746 seconds\n"
          ]
        }
      ]
    }
  ]
}